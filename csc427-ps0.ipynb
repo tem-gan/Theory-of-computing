{
 "cells": [
  {
   "cell_type": "markdown",
   "metadata": {},
   "source": [
    "## Problem Set 0\n",
    "\n",
    "_csc427, semester 212\n",
    "<br>\n",
    "university of miami\n",
    "<br>\n",
    "date: 25 january 2021_\n"
   ]
  },
  {
   "cell_type": "markdown",
   "metadata": {},
   "source": [
    "### Goals\n",
    "\n",
    "This problem set is to familiarize the student with the tools to be used in the course. This includes,\n",
    "\n",
    "- github\n",
    "- python\n",
    "- jupyter notebooks\n",
    "- submiting for grading\n",
    "\n",
    "The student is to bring a copy of this file to their desktop, and open it in Jupyter.\n",
    "\n",
    "Then we begin to look at the Python code and consider the first topic of the course: Deterministic Finite Automata (DFA's).\n",
    "\n",
    "\n",
    "### Machine 0\n",
    "\n",
    "The sorts of machines we are considering are machines that react to inputs, symbolically given here as the presentation to the machine of a letter. That presentation affects the machine in two ways. First, it could do something appropriate to the letter presented. Second, it updates an internal state that keeps the context for how the machine is to react to future inputs.\n",
    "\n",
    "Here we present a machine that only understands two inputs, the letters a and b. Its state remembers the last letter that was presented. To do this, the state as two values, A and B. I am changing the case so that input and states do not get confused.\n",
    "\n",
    "In fact, all that is happening is, \n",
    "\n",
    "- If the input is a, update the state to A\n",
    "- If the input is b, update the state to B\n",
    "\n",
    "\n",
    "### Consider the code\n",
    "\n",
    "For those that do not know Python, welcome. Here is your crash course. I will try to give you a just-in-time\n",
    "course in the language. We will implement Machine 0 in Python, and I will explain just the Python necessary\n",
    "to implement Machine 0\n",
    "\n",
    "__The MachineZero class__\n",
    "\n",
    "I assume the student knows some object-oriented programming langauge.\n",
    "\n",
    "The machine is an instance of an object. It is an abstraction that can be influenced by the input of a character, and that has an instance variable for the state, so that the history of inputs can be summarized. Most\n",
    "machines also do something in response to an input. An electronic door opens, and elevator goes to a floor. \n",
    "At the moment we are not interested in the machines responses except for the changes in state.\n",
    "\n",
    "The Python code demonstrates the defining of a class, MachineZero, with the constructor \\_\\_init\\_\\_, and two methods, signal and get_state. The odd Python class syntax is demonstrated, where the self argument is a\n",
    "reference to the object, and is used in dot notation to access the instance variables of the object.\n",
    "\n"
   ]
  },
  {
   "cell_type": "code",
   "execution_count": 16,
   "metadata": {},
   "outputs": [],
   "source": [
    "\n",
    "class MachineZero:\n",
    "    \n",
    "    def __init__(self):\n",
    "        self.states = ['A','B']\n",
    "        self.alphabet = ['a','b']\n",
    "        self.start_state = 0\n",
    "        self.current_state = self.states[self.start_state]\n",
    "        \n",
    "    def signal(self,message):\n",
    "        if message == 'a':\n",
    "            self.current_state = 'A'\n",
    "        if message == 'b':\n",
    "            self.current_state = 'B'\n",
    "    \n",
    "    def get_state(self):\n",
    "        return self.current_state\n",
    "    \n"
   ]
  },
  {
   "cell_type": "markdown",
   "metadata": {},
   "source": [
    "__Testing the machine__\n",
    "\n",
    "We test the machine but creating an instance (the class name used as a function signifies object instantiation) and feed it inputs. The for construct is demonstrated. It works to iterate over some iterable, in this case a string. To iterate a string is to consider each character in the string in the order it appears. \n"
   ]
  },
  {
   "cell_type": "code",
   "execution_count": 19,
   "metadata": {},
   "outputs": [
    {
     "name": "stdout",
     "output_type": "stream",
     "text": [
      "PASS\n"
     ]
    }
   ],
   "source": [
    "def test_machine(machine, test_string):\n",
    "\n",
    "    result = machine.get_state()\n",
    "    for m in test_string:\n",
    "        machine.signal(m)\n",
    "        result += machine.get_state()\n",
    "    return result\n",
    "\n",
    "def run_tests_zero():\n",
    "    tests = ['aabbabaab']\n",
    "    results = ['AAABBABAAB']\n",
    "\n",
    "    verdict = 'PASS'\n",
    "    for t, r in zip(tests,results):\n",
    "        if test_machine(MachineZero(), t) != r:\n",
    "            verdict = 'FAIL'\n",
    "    print(verdict)\n",
    "    \n",
    "    \n",
    "run_tests_zero()\n"
   ]
  },
  {
   "cell_type": "markdown",
   "metadata": {},
   "source": [
    "### Exercise A\n",
    "\n",
    "Create MachineOne, that has three states, A, B, and C, and accepts inputs f (for forward) and b (for back). \n",
    "The states transition on inputs according to:\n",
    "\n",
    "- the states are considered to be in a circular order, A then B then C then back to A, and so on.\n",
    "- on input f, the state is advanced. I.e. from A to B, from B to C, and from C to A.\n",
    "- on input b, the state retreats. I.e. from A to C, from B to A, and from C to B.\n",
    "\n",
    "Replace the pass statement with code to implement MachineOne.\n",
    "\n",
    "The machine begins in state A.\n"
   ]
  },
  {
   "cell_type": "code",
   "execution_count": 32,
   "metadata": {},
   "outputs": [],
   "source": [
    " class MachineOne:\n",
    "    \n",
    "    def __init__(self):\n",
    "         \n",
    "        pass\n",
    "        \n",
    "    def signal(self,message):\n",
    "        \n",
    "        pass\n",
    "    \n",
    "    def get_state(self):\n",
    "        \n",
    "        pass\n",
    "    \n",
    "        return ''\n",
    "    \n"
   ]
  },
  {
   "cell_type": "markdown",
   "metadata": {},
   "source": [
    "Pass this test, and other tests that you can think of."
   ]
  },
  {
   "cell_type": "code",
   "execution_count": 33,
   "metadata": {},
   "outputs": [
    {
     "name": "stdout",
     "output_type": "stream",
     "text": [
      "FAIL\n"
     ]
    }
   ],
   "source": [
    "\n",
    "def run_tests_one():\n",
    "    tests = ['fffbbfbfbbffbbbf']\n",
    "    results = ['ABCACBCBCBABCBACA']\n",
    "\n",
    "    verdict = 'PASS'\n",
    "    for t, r in zip(tests,results):\n",
    "        if test_machine(MachineOne(), t) != r:\n",
    "            verdict = 'FAIL'\n",
    "    print(verdict)\n",
    "    \n",
    "run_tests_one()\n"
   ]
  },
  {
   "cell_type": "code",
   "execution_count": null,
   "metadata": {},
   "outputs": [],
   "source": []
  }
 ],
 "metadata": {
  "kernelspec": {
   "display_name": "Python 3",
   "language": "python",
   "name": "python3"
  },
  "language_info": {
   "codemirror_mode": {
    "name": "ipython",
    "version": 3
   },
   "file_extension": ".py",
   "mimetype": "text/x-python",
   "name": "python",
   "nbconvert_exporter": "python",
   "pygments_lexer": "ipython3",
   "version": "3.8.5"
  }
 },
 "nbformat": 4,
 "nbformat_minor": 4
}
